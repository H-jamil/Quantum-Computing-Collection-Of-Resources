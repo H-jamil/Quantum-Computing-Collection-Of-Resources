{
 "cells": [
  {
   "cell_type": "code",
   "execution_count": 2,
   "metadata": {},
   "outputs": [],
   "source": [
    "import numpy as np\n",
    "from scipy.linalg import expm, sinm, cosm\n",
    "import matplotlib.pyplot as plt\n",
    "import pandas as pd\n",
    "import seaborn as sns\n",
    "import math\n",
    "from scipy import stats\n",
    "%matplotlib inline\n",
    "\n",
    "from IPython.display import Image, display, Math, Latex\n",
    "sns.set(color_codes=True)"
   ]
  },
  {
   "cell_type": "markdown",
   "metadata": {},
   "source": [
    "# Perfect State Transfer and Uniform Mixing"
   ]
  },
  {
   "cell_type": "markdown",
   "metadata": {},
   "source": [
    "As we have seen in the introduction article about __[CTQW (Continuous Time Quantum Walks)](https://github.com/matheusmtta/Quantum-Computing/blob/master/CTQW.ipynb)__\n",
    "\n",
    "If A is the adjacency matrix of a graph G, we will define a Quantum Walk as a trasition matrix $U(t)$,\n",
    "\n",
    "$$\n",
    "    U(t) = exp(itA)\n",
    "$$\n",
    "\n",
    "In this article we are concerned about how these transition matrices works and some of its special properties in quantum states.\n",
    "\n",
    "Since we are working with quantum information we are interested in the squared absolute value of $U(t)$ entries, in order to guarantee that its entries can be betermined by measurements.\n",
    "\n",
    "These matrices are called unitary, i.e, $U^*U = UU^* = I$. Hence we have that $\\overline{U(t)} = U(-t)$, and we can define a measurement matrix by the Schur Product of its entries, which is defined as the entrywise matrix product \n",
    "\n",
    "$$\n",
    "    M(t) = U(t)\\circ U(-t)\n",
    "$$\n",
    "\n",
    "Hence, giving us a doubly sthocastic measurement matrix $M(t)$, where each column give us the probability density of $V(X)$, i.e, information about the quantum walker into our vertex set, given a initial state $|\\psi\\rangle$ and a time $t$.\n",
    "\n",
    "Thus, we are interested in evaluate some special properties of CTQW over specfic graphs at a certain time, and we are mostly interested and the ones that are known as Perfect State Transfer (PST) and Uniform Mixing (UM)."
   ]
  },
  {
   "cell_type": "markdown",
   "metadata": {},
   "source": [
    "Still in progress..."
   ]
  }
 ],
 "metadata": {
  "kernelspec": {
   "display_name": "Python 3",
   "language": "python",
   "name": "python3"
  },
  "language_info": {
   "codemirror_mode": {
    "name": "ipython",
    "version": 3
   },
   "file_extension": ".py",
   "mimetype": "text/x-python",
   "name": "python",
   "nbconvert_exporter": "python",
   "pygments_lexer": "ipython3",
   "version": "3.8.2"
  }
 },
 "nbformat": 4,
 "nbformat_minor": 2
}
